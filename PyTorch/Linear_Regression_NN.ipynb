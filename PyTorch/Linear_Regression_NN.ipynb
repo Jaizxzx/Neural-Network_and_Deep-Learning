{
  "nbformat": 4,
  "nbformat_minor": 0,
  "metadata": {
    "colab": {
      "provenance": [],
      "gpuType": "T4",
      "authorship_tag": "ABX9TyMSvOsukDpwE0agMB7Y6VS4",
      "include_colab_link": true
    },
    "kernelspec": {
      "name": "python3",
      "display_name": "Python 3"
    },
    "language_info": {
      "name": "python"
    },
    "accelerator": "GPU"
  },
  "cells": [
    {
      "cell_type": "markdown",
      "metadata": {
        "id": "view-in-github",
        "colab_type": "text"
      },
      "source": [
        "<a href=\"https://colab.research.google.com/github/Jaizxzx/Neural-Network_and_Deep-Learning/blob/main/PyTorch/Linear_Regression_NN.ipynb\" target=\"_parent\"><img src=\"https://colab.research.google.com/assets/colab-badge.svg\" alt=\"Open In Colab\"/></a>"
      ]
    },
    {
      "cell_type": "code",
      "source": [
        "import torch\n",
        "from torch import nn as nn\n",
        "print(torch.__version__)\n",
        "import numpy as np\n",
        "from sklearn.model_selection import train_test_split"
      ],
      "metadata": {
        "colab": {
          "base_uri": "https://localhost:8080/"
        },
        "id": "eMA7xiMwoWjR",
        "outputId": "31c737e7-41f2-46a6-8cae-6277b04ca6e3"
      },
      "execution_count": 58,
      "outputs": [
        {
          "output_type": "stream",
          "name": "stdout",
          "text": [
            "2.3.0+cu121\n"
          ]
        }
      ]
    },
    {
      "cell_type": "markdown",
      "source": [
        "### Setting device and configs to run on gpu if available i.e cuda (nvidia only) zluda implementation might come later\n"
      ],
      "metadata": {
        "id": "mK6NF7QO4XIc"
      }
    },
    {
      "cell_type": "code",
      "source": [
        "device = 'cuda' if torch.cuda.is_available() else 'cpu'\n",
        "print(device)"
      ],
      "metadata": {
        "colab": {
          "base_uri": "https://localhost:8080/"
        },
        "id": "eZt9Z23lu5rd",
        "outputId": "32918538-8ce6-4219-b019-bc1aa1c36328"
      },
      "execution_count": 59,
      "outputs": [
        {
          "output_type": "stream",
          "name": "stdout",
          "text": [
            "cuda\n"
          ]
        }
      ]
    },
    {
      "cell_type": "markdown",
      "source": [
        "### Generating random values from numpy"
      ],
      "metadata": {
        "id": "Ait__iXhpwdh"
      }
    },
    {
      "cell_type": "code",
      "source": [
        "# Setting a random manual seed for reproducibility of the x values\n",
        "seed = 35\n",
        "torch.manual_seed(seed)\n",
        "x = torch.rand(100,1)\n",
        "y = 9*x+24"
      ],
      "metadata": {
        "id": "w8naowLxpu1D"
      },
      "execution_count": 60,
      "outputs": []
    },
    {
      "cell_type": "code",
      "source": [
        "x_train, x_test, y_train, y_test = train_test_split(x, y, test_size=0.2, random_state=24)"
      ],
      "metadata": {
        "id": "34GJMaylsbG7"
      },
      "execution_count": 61,
      "outputs": []
    },
    {
      "cell_type": "code",
      "source": [
        "model = nn.Linear(in_features=1, out_features=1,device = device,dtype = torch.float32)"
      ],
      "metadata": {
        "id": "KhlXoW4_tCgn"
      },
      "execution_count": 62,
      "outputs": []
    },
    {
      "cell_type": "code",
      "source": [
        "# Converting the cpu tensors to cuda tensors for gpu runtime\n",
        "x_train = x_train.reshape(-1, 1).to(device)\n",
        "y_train = y_train.reshape(-1, 1).to(device)\n",
        "x_test = x_test.reshape(-1, 1).to(device)\n",
        "y_test = y_test.reshape(-1, 1).to(device)"
      ],
      "metadata": {
        "id": "1c8lUjg11S1K"
      },
      "execution_count": 63,
      "outputs": []
    },
    {
      "cell_type": "markdown",
      "source": [
        "### Training Loop"
      ],
      "metadata": {
        "id": "LSF8dGeFwAmh"
      }
    },
    {
      "cell_type": "code",
      "source": [
        "mse = nn.MSELoss()\n",
        "optimizer = torch.optim.SGD(model.parameters(), lr=0.0001)\n",
        "epochs = 18000\n",
        "for epoch in range(epochs):\n",
        "    model.train()\n",
        "    optimizer.zero_grad()\n",
        "    outputs = model(x_train)\n",
        "    loss = mse(outputs, y_train)\n",
        "    loss.backward()\n",
        "    optimizer.step()\n",
        "    if (epoch + 1) % 1000 == 0:\n",
        "        print(f'Epoch [{epoch+1}/{epochs}], Loss: {loss.item():.4f}')"
      ],
      "metadata": {
        "colab": {
          "base_uri": "https://localhost:8080/"
        },
        "id": "VHJsvWyAtUJD",
        "outputId": "34e5dbd3-5958-453d-9158-00c6ccda805c"
      },
      "execution_count": 64,
      "outputs": [
        {
          "output_type": "stream",
          "name": "stdout",
          "text": [
            "Epoch [1000/18000], Loss: 481.1268\n",
            "Epoch [2000/18000], Loss: 288.3109\n",
            "Epoch [3000/18000], Loss: 172.8324\n",
            "Epoch [4000/18000], Loss: 103.6699\n",
            "Epoch [5000/18000], Loss: 62.2450\n",
            "Epoch [6000/18000], Loss: 37.4320\n",
            "Epoch [7000/18000], Loss: 22.5675\n",
            "Epoch [8000/18000], Loss: 13.6613\n",
            "Epoch [9000/18000], Loss: 8.3233\n",
            "Epoch [10000/18000], Loss: 5.1225\n",
            "Epoch [11000/18000], Loss: 3.2018\n",
            "Epoch [12000/18000], Loss: 2.0477\n",
            "Epoch [13000/18000], Loss: 1.3529\n",
            "Epoch [14000/18000], Loss: 0.9332\n",
            "Epoch [15000/18000], Loss: 0.6784\n",
            "Epoch [16000/18000], Loss: 0.5224\n",
            "Epoch [17000/18000], Loss: 0.4258\n",
            "Epoch [18000/18000], Loss: 0.3647\n"
          ]
        }
      ]
    },
    {
      "cell_type": "code",
      "source": [
        "print(loss)"
      ],
      "metadata": {
        "colab": {
          "base_uri": "https://localhost:8080/"
        },
        "id": "7n_N0J3dw_Mz",
        "outputId": "0ba3b338-2726-403e-a687-fb0d436898ce"
      },
      "execution_count": 65,
      "outputs": [
        {
          "output_type": "stream",
          "name": "stdout",
          "text": [
            "tensor(0.3647, device='cuda:0', grad_fn=<MseLossBackward0>)\n"
          ]
        }
      ]
    },
    {
      "cell_type": "code",
      "source": [
        "\n",
        "model.eval()\n",
        "with torch.no_grad():\n",
        "    test_outputs = model(x_test)\n",
        "    test_loss = mse(test_outputs, y_test)\n",
        "    print(f'Test Loss: {test_loss.item():.4f}')\n",
        ""
      ],
      "metadata": {
        "colab": {
          "base_uri": "https://localhost:8080/"
        },
        "id": "5QfMA_4wxbXi",
        "outputId": "7ba0bc67-cea9-4e43-c112-25e674b7884f"
      },
      "execution_count": 66,
      "outputs": [
        {
          "output_type": "stream",
          "name": "stdout",
          "text": [
            "Test Loss: 0.2068\n"
          ]
        }
      ]
    },
    {
      "cell_type": "code",
      "source": [
        "print(f'Learned parameters: W = {model.weight.item():.4f}, b = {model.bias.item():.4f}')\n"
      ],
      "metadata": {
        "colab": {
          "base_uri": "https://localhost:8080/"
        },
        "id": "ywq0nwC2zXMe",
        "outputId": "3f624957-3549-4084-8116-739228a6969f"
      },
      "execution_count": 67,
      "outputs": [
        {
          "output_type": "stream",
          "name": "stdout",
          "text": [
            "Learned parameters: W = 10.6329, b = 22.8178\n"
          ]
        }
      ]
    }
  ]
}