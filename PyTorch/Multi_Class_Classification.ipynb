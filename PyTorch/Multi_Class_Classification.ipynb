{
  "nbformat": 4,
  "nbformat_minor": 0,
  "metadata": {
    "colab": {
      "provenance": [],
      "authorship_tag": "ABX9TyMMgldbFkCSwrQxb/70JHbj",
      "include_colab_link": true
    },
    "kernelspec": {
      "name": "python3",
      "display_name": "Python 3"
    },
    "language_info": {
      "name": "python"
    }
  },
  "cells": [
    {
      "cell_type": "markdown",
      "metadata": {
        "id": "view-in-github",
        "colab_type": "text"
      },
      "source": [
        "<a href=\"https://colab.research.google.com/github/Jaizxzx/Neural-Network_and_Deep-Learning/blob/main/PyTorch/Multi_Class_Classification.ipynb\" target=\"_parent\"><img src=\"https://colab.research.google.com/assets/colab-badge.svg\" alt=\"Open In Colab\"/></a>"
      ]
    },
    {
      "cell_type": "code",
      "execution_count": 43,
      "metadata": {
        "colab": {
          "base_uri": "https://localhost:8080/"
        },
        "id": "u2R2kV-HObMy",
        "outputId": "f002e9d5-e215-4d47-a505-03b2021b677b"
      },
      "outputs": [
        {
          "output_type": "stream",
          "name": "stdout",
          "text": [
            "2.3.0+cu121\n"
          ]
        }
      ],
      "source": [
        "import torch\n",
        "import torchvision\n",
        "import torch.nn as nn\n",
        "from sklearn.model_selection import train_test_split\n",
        "import pandas as pd\n",
        "import numpy as np\n",
        "print(torch.__version__)"
      ]
    },
    {
      "cell_type": "code",
      "source": [
        "device = 'cuda' if torch.cuda.is_available() else 'cpu'\n",
        "device"
      ],
      "metadata": {
        "colab": {
          "base_uri": "https://localhost:8080/",
          "height": 36
        },
        "id": "4LQGiWUzOrqs",
        "outputId": "4a4bd59a-11bc-473b-f67e-23014b57d841"
      },
      "execution_count": 44,
      "outputs": [
        {
          "output_type": "execute_result",
          "data": {
            "text/plain": [
              "'cpu'"
            ],
            "application/vnd.google.colaboratory.intrinsic+json": {
              "type": "string"
            }
          },
          "metadata": {},
          "execution_count": 44
        }
      ]
    },
    {
      "cell_type": "code",
      "source": [
        "from torchvision import datasets, transforms\n",
        "from torch.utils.data import DataLoader, random_split\n",
        "\n",
        "# Define transform\n",
        "transform = transforms.Compose([\n",
        "    transforms.ToTensor(),\n",
        "    transforms.Normalize((0.1307,), (0.3081,))\n",
        "])\n",
        "\n",
        "# Load full training set\n",
        "full_train_dataset = datasets.MNIST(root='./data', train=True, download=True, transform=transform)\n",
        "\n",
        "# Split training set into train and validation\n",
        "train_size = int(0.8 * len(full_train_dataset))\n",
        "train_dataset = random_split(full_train_dataset, [train_size, len(full_train_dataset) - train_size])[0]\n",
        "# Load test set\n",
        "test_dataset = datasets.MNIST(root='./data', train=False, download=True, transform=transform)\n",
        "\n",
        "# Create DataLoaders\n",
        "train_loader = DataLoader(train_dataset, batch_size=64, shuffle=True)\n",
        "test_loader = DataLoader(test_dataset, batch_size=64, shuffle=False)\n",
        "\n",
        "# Function to separate features and labels\n",
        "def separate_features_labels(dataset):\n",
        "    dataloader = DataLoader(dataset, batch_size=len(dataset), shuffle=False)\n",
        "    features, labels = next(iter(dataloader))\n",
        "    return features, labels\n",
        "\n",
        "# Separate features and labels for each set\n",
        "train_features, train_labels = separate_features_labels(train_dataset)\n",
        "test_features, test_labels = separate_features_labels(test_dataset)\n",
        "\n",
        "# Print shapes to verify\n",
        "print(\"Train features shape:\", train_features.shape)\n",
        "print(\"Train labels shape:\", train_labels.shape)\n",
        "print(\"Test features shape:\", test_features.shape)\n",
        "print(\"Test labels shape:\", test_labels.shape)"
      ],
      "metadata": {
        "id": "7OaJ2Ta7SK38",
        "colab": {
          "base_uri": "https://localhost:8080/"
        },
        "outputId": "880d5e25-1601-47f7-fa53-1df5fd1b7852"
      },
      "execution_count": 45,
      "outputs": [
        {
          "output_type": "stream",
          "name": "stdout",
          "text": [
            "Train features shape: torch.Size([48000, 1, 28, 28])\n",
            "Train labels shape: torch.Size([48000])\n",
            "Test features shape: torch.Size([10000, 1, 28, 28])\n",
            "Test labels shape: torch.Size([10000])\n"
          ]
        }
      ]
    },
    {
      "cell_type": "markdown",
      "source": [
        "###Model"
      ],
      "metadata": {
        "id": "QLloDgIKx0q5"
      }
    },
    {
      "cell_type": "code",
      "source": [
        "class digit_model(nn.Module):\n",
        "    def __init__(self):\n",
        "        super(digit_model, self).__init__()\n",
        "        self.l1 = nn.Linear(28*28, 128)\n",
        "        self.bn1 = nn.BatchNorm1d(128)\n",
        "        self.l2 = nn.Linear(128, 64)\n",
        "        self.bn2 = nn.BatchNorm1d(64)\n",
        "        self.l3 = nn.Linear(64, 32)\n",
        "        self.bn3 = nn.BatchNorm1d(32)\n",
        "        self.l4 = nn.Linear(32, 10)\n",
        "        self.relu = nn.ReLU()\n",
        "        self.dropout = nn.Dropout(0.2)\n",
        "\n",
        "    def forward(self, x):\n",
        "        x = x.view(x.shape[0], 28*28)\n",
        "        x = self.relu(self.bn1(self.l1(x)))\n",
        "        x = self.dropout(x)\n",
        "        x = self.relu(self.bn2(self.l2(x)))\n",
        "        x = self.dropout(x)\n",
        "        x = self.relu(self.bn3(self.l3(x)))\n",
        "        x = self.dropout(x)\n",
        "        x = self.l4(x)\n",
        "        return x\n",
        "\n",
        ""
      ],
      "metadata": {
        "id": "5xZWjWdrWb8x"
      },
      "execution_count": 46,
      "outputs": []
    },
    {
      "cell_type": "code",
      "source": [
        "model = digit_model().to(device)\n",
        "loss_fn = nn.CrossEntropyLoss()\n",
        "optimizer = torch.optim.Adam(model.parameters(), lr=0.001)\n",
        "scheduler = torch.optim.lr_scheduler.ReduceLROnPlateau(optimizer, 'min', patience=2, factor=0.5)"
      ],
      "metadata": {
        "id": "RIkhzNstwo2Q"
      },
      "execution_count": 47,
      "outputs": []
    },
    {
      "cell_type": "markdown",
      "source": [
        "### Training Loop"
      ],
      "metadata": {
        "id": "49MsZirbzT0E"
      }
    },
    {
      "cell_type": "code",
      "source": [
        "def train_epoch(model, train_loader, optimizer, loss_fn):\n",
        "    model.train()\n",
        "    total_loss = 0\n",
        "    correct = 0\n",
        "    total = 0\n",
        "    for images, labels in train_loader:\n",
        "        images, labels = images.to(device), labels.to(device)\n",
        "        optimizer.zero_grad()\n",
        "        output = model(images)\n",
        "        loss = loss_fn(output, labels)\n",
        "        loss.backward()\n",
        "        optimizer.step()\n",
        "        total_loss += loss.item()\n",
        "        _, predicted = output.max(1)\n",
        "        total += labels.size(0)\n",
        "        correct += predicted.eq(labels).sum().item()\n",
        "    return total_loss / len(train_loader), 100. * correct / total\n"
      ],
      "metadata": {
        "id": "uR3Z0OA8DIHz"
      },
      "execution_count": 48,
      "outputs": []
    },
    {
      "cell_type": "code",
      "source": [
        "def evaluate(model, loader):\n",
        "    model.eval()\n",
        "    correct = 0\n",
        "    total = 0\n",
        "    all_preds = []\n",
        "    all_labels = []\n",
        "    with torch.no_grad():\n",
        "        for images, labels in loader:\n",
        "            images, labels = images.to(device), labels.to(device)\n",
        "            outputs = model(images)\n",
        "            _, predicted = outputs.max(1)\n",
        "            total += labels.size(0)\n",
        "            correct += predicted.eq(labels).sum().item()\n",
        "            all_preds.extend(predicted.cpu().numpy())\n",
        "            all_labels.extend(labels.cpu().numpy())\n",
        "    accuracy = 100. * correct / total\n",
        "    conf_matrix = confusion_matrix(all_labels, all_preds)\n",
        "    precision, recall, _, _ = precision_recall_fscore_support(all_labels, all_preds, average=None)\n",
        "    return accuracy, conf_matrix, precision, recall\n"
      ],
      "metadata": {
        "id": "y1zb_sWs-k4_"
      },
      "execution_count": 49,
      "outputs": []
    },
    {
      "cell_type": "code",
      "source": [
        "train_size = int(0.8 * len(train_dataset))\n",
        "val_size = len(train_dataset) - train_size\n",
        "train_dataset, val_dataset = random_split(train_dataset, [train_size, val_size])\n",
        "train_loader = DataLoader(train_dataset, batch_size=64, shuffle=True)\n",
        "val_loader = DataLoader(val_dataset, batch_size=64, shuffle=False)\n",
        "\n",
        "best_val_acc = 0\n",
        "patience = 5\n",
        "epochs_no_improve = 0\n"
      ],
      "metadata": {
        "id": "cAQrn4iYDaqE"
      },
      "execution_count": 50,
      "outputs": []
    },
    {
      "cell_type": "code",
      "source": [
        "for epoch in range(5):  # Increased max epochs\n",
        "    train_loss, train_acc = train_epoch(model, train_loader, optimizer, loss_fn)\n",
        "    val_acc, _, _, _ = evaluate(model, val_loader)\n",
        "    scheduler.step(train_loss)\n",
        "\n",
        "    print(f\"Epoch {epoch+1}: Train Loss: {train_loss:.4f}, Train Acc: {train_acc:.2f}%, Val Acc: {val_acc:.2f}%\")\n",
        "\n",
        "    if val_acc > best_val_acc:\n",
        "        best_val_acc = val_acc\n",
        "        torch.save(model.state_dict(), 'best_model.pth')\n",
        "        epochs_no_improve = 0\n",
        "    else:\n",
        "        epochs_no_improve += 1\n",
        "        if epochs_no_improve == patience:\n",
        "            print(\"Early stopping!\")\n",
        "            break\n",
        "\n",
        "# Load best model and evaluate on test set\n",
        "model.load_state_dict(torch.load('best_model.pth'))\n",
        "test_acc, conf_matrix, precision, recall = evaluate(model, test_loader)\n",
        "print(f\"\\nTest Accuracy: {test_acc:.2f}%\")\n",
        "print(\"\\nConfusion Matrix:\")\n",
        "print(conf_matrix)\n",
        "print(\"\\nPrecision for each class:\")\n",
        "print(precision)\n",
        "print(\"\\nRecall for each class:\")\n",
        "print(recall)"
      ],
      "metadata": {
        "colab": {
          "base_uri": "https://localhost:8080/"
        },
        "id": "hdMfgQSCDiM3",
        "outputId": "4f0eb81a-f2d7-44a7-e604-1d0d321dacb1"
      },
      "execution_count": 51,
      "outputs": [
        {
          "output_type": "stream",
          "name": "stdout",
          "text": [
            "Epoch 1: Train Loss: 0.6091, Train Acc: 85.32%, Val Acc: 94.89%\n",
            "Epoch 2: Train Loss: 0.2565, Train Acc: 92.85%, Val Acc: 96.29%\n",
            "Epoch 3: Train Loss: 0.2069, Train Acc: 94.11%, Val Acc: 96.60%\n",
            "Epoch 4: Train Loss: 0.1747, Train Acc: 95.00%, Val Acc: 97.28%\n",
            "Epoch 5: Train Loss: 0.1604, Train Acc: 95.42%, Val Acc: 97.27%\n",
            "\n",
            "Test Accuracy: 97.23%\n",
            "\n",
            "Confusion Matrix:\n",
            "[[ 969    1    1    1    0    1    4    1    1    1]\n",
            " [   0 1124    4    0    1    1    1    1    3    0]\n",
            " [   3    1  998    4    3    0    1   13    9    0]\n",
            " [   0    0    4  984    0    2    0    9   10    1]\n",
            " [   1    0    4    0  953    0    5    3    1   15]\n",
            " [   4    0    0   13    1  849    6    2   12    5]\n",
            " [   4    3    1    0    4    5  935    0    6    0]\n",
            " [   1    5    8    0    0    0    0 1006    0    8]\n",
            " [   5    3    6    3    3    4    3    7  937    3]\n",
            " [   3    4    0    7    9    1    1    9    7  968]]\n",
            "\n",
            "Precision for each class:\n",
            "[0.97878788 0.98510079 0.97270955 0.97233202 0.97843943 0.98377752\n",
            " 0.97803347 0.95718363 0.95030426 0.96703297]\n",
            "\n",
            "Recall for each class:\n",
            "[0.98877551 0.99030837 0.96705426 0.97425743 0.97046843 0.95179372\n",
            " 0.97599165 0.97859922 0.96201232 0.95936571]\n"
          ]
        }
      ]
    }
  ]
}