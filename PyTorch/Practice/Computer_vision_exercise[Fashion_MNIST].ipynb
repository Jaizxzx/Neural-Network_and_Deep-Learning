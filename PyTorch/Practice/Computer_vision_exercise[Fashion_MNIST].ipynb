{
  "nbformat": 4,
  "nbformat_minor": 0,
  "metadata": {
    "colab": {
      "provenance": [],
      "include_colab_link": true
    },
    "kernelspec": {
      "name": "python3",
      "display_name": "Python 3"
    },
    "language_info": {
      "name": "python"
    },
    "accelerator": "GPU",
    "widgets": {
      "application/vnd.jupyter.widget-state+json": {
        "38aded93ff51403fb645fc71520d7a23": {
          "model_module": "@jupyter-widgets/controls",
          "model_name": "HBoxModel",
          "model_module_version": "1.5.0",
          "state": {
            "_dom_classes": [],
            "_model_module": "@jupyter-widgets/controls",
            "_model_module_version": "1.5.0",
            "_model_name": "HBoxModel",
            "_view_count": null,
            "_view_module": "@jupyter-widgets/controls",
            "_view_module_version": "1.5.0",
            "_view_name": "HBoxView",
            "box_style": "",
            "children": [
              "IPY_MODEL_0695fcbf39064dfa8cf09e477cb28feb",
              "IPY_MODEL_b6e422347e864134823153b3ed7c7b17",
              "IPY_MODEL_f7913062d7a640c78fc36280b1fbaed7"
            ],
            "layout": "IPY_MODEL_d4fe3c7d59954354b4cc28291afe5e4e"
          }
        },
        "0695fcbf39064dfa8cf09e477cb28feb": {
          "model_module": "@jupyter-widgets/controls",
          "model_name": "HTMLModel",
          "model_module_version": "1.5.0",
          "state": {
            "_dom_classes": [],
            "_model_module": "@jupyter-widgets/controls",
            "_model_module_version": "1.5.0",
            "_model_name": "HTMLModel",
            "_view_count": null,
            "_view_module": "@jupyter-widgets/controls",
            "_view_module_version": "1.5.0",
            "_view_name": "HTMLView",
            "description": "",
            "description_tooltip": null,
            "layout": "IPY_MODEL_7220ce959646435c8572fec9bb607def",
            "placeholder": "​",
            "style": "IPY_MODEL_1fc94cd84ad140339bfad9084461439a",
            "value": "100%"
          }
        },
        "b6e422347e864134823153b3ed7c7b17": {
          "model_module": "@jupyter-widgets/controls",
          "model_name": "FloatProgressModel",
          "model_module_version": "1.5.0",
          "state": {
            "_dom_classes": [],
            "_model_module": "@jupyter-widgets/controls",
            "_model_module_version": "1.5.0",
            "_model_name": "FloatProgressModel",
            "_view_count": null,
            "_view_module": "@jupyter-widgets/controls",
            "_view_module_version": "1.5.0",
            "_view_name": "ProgressView",
            "bar_style": "success",
            "description": "",
            "description_tooltip": null,
            "layout": "IPY_MODEL_7c4bbc3b4ab9439b93c3629cefd29b76",
            "max": 5,
            "min": 0,
            "orientation": "horizontal",
            "style": "IPY_MODEL_ceb1c9b1340b4213b848b1853076e4a7",
            "value": 5
          }
        },
        "f7913062d7a640c78fc36280b1fbaed7": {
          "model_module": "@jupyter-widgets/controls",
          "model_name": "HTMLModel",
          "model_module_version": "1.5.0",
          "state": {
            "_dom_classes": [],
            "_model_module": "@jupyter-widgets/controls",
            "_model_module_version": "1.5.0",
            "_model_name": "HTMLModel",
            "_view_count": null,
            "_view_module": "@jupyter-widgets/controls",
            "_view_module_version": "1.5.0",
            "_view_name": "HTMLView",
            "description": "",
            "description_tooltip": null,
            "layout": "IPY_MODEL_bed1246123794e259bacd1412efd7ab8",
            "placeholder": "​",
            "style": "IPY_MODEL_422e862b52844f65bbce2ce9a2a6948e",
            "value": " 5/5 [00:55&lt;00:00, 11.08s/it]"
          }
        },
        "d4fe3c7d59954354b4cc28291afe5e4e": {
          "model_module": "@jupyter-widgets/base",
          "model_name": "LayoutModel",
          "model_module_version": "1.2.0",
          "state": {
            "_model_module": "@jupyter-widgets/base",
            "_model_module_version": "1.2.0",
            "_model_name": "LayoutModel",
            "_view_count": null,
            "_view_module": "@jupyter-widgets/base",
            "_view_module_version": "1.2.0",
            "_view_name": "LayoutView",
            "align_content": null,
            "align_items": null,
            "align_self": null,
            "border": null,
            "bottom": null,
            "display": null,
            "flex": null,
            "flex_flow": null,
            "grid_area": null,
            "grid_auto_columns": null,
            "grid_auto_flow": null,
            "grid_auto_rows": null,
            "grid_column": null,
            "grid_gap": null,
            "grid_row": null,
            "grid_template_areas": null,
            "grid_template_columns": null,
            "grid_template_rows": null,
            "height": null,
            "justify_content": null,
            "justify_items": null,
            "left": null,
            "margin": null,
            "max_height": null,
            "max_width": null,
            "min_height": null,
            "min_width": null,
            "object_fit": null,
            "object_position": null,
            "order": null,
            "overflow": null,
            "overflow_x": null,
            "overflow_y": null,
            "padding": null,
            "right": null,
            "top": null,
            "visibility": null,
            "width": null
          }
        },
        "7220ce959646435c8572fec9bb607def": {
          "model_module": "@jupyter-widgets/base",
          "model_name": "LayoutModel",
          "model_module_version": "1.2.0",
          "state": {
            "_model_module": "@jupyter-widgets/base",
            "_model_module_version": "1.2.0",
            "_model_name": "LayoutModel",
            "_view_count": null,
            "_view_module": "@jupyter-widgets/base",
            "_view_module_version": "1.2.0",
            "_view_name": "LayoutView",
            "align_content": null,
            "align_items": null,
            "align_self": null,
            "border": null,
            "bottom": null,
            "display": null,
            "flex": null,
            "flex_flow": null,
            "grid_area": null,
            "grid_auto_columns": null,
            "grid_auto_flow": null,
            "grid_auto_rows": null,
            "grid_column": null,
            "grid_gap": null,
            "grid_row": null,
            "grid_template_areas": null,
            "grid_template_columns": null,
            "grid_template_rows": null,
            "height": null,
            "justify_content": null,
            "justify_items": null,
            "left": null,
            "margin": null,
            "max_height": null,
            "max_width": null,
            "min_height": null,
            "min_width": null,
            "object_fit": null,
            "object_position": null,
            "order": null,
            "overflow": null,
            "overflow_x": null,
            "overflow_y": null,
            "padding": null,
            "right": null,
            "top": null,
            "visibility": null,
            "width": null
          }
        },
        "1fc94cd84ad140339bfad9084461439a": {
          "model_module": "@jupyter-widgets/controls",
          "model_name": "DescriptionStyleModel",
          "model_module_version": "1.5.0",
          "state": {
            "_model_module": "@jupyter-widgets/controls",
            "_model_module_version": "1.5.0",
            "_model_name": "DescriptionStyleModel",
            "_view_count": null,
            "_view_module": "@jupyter-widgets/base",
            "_view_module_version": "1.2.0",
            "_view_name": "StyleView",
            "description_width": ""
          }
        },
        "7c4bbc3b4ab9439b93c3629cefd29b76": {
          "model_module": "@jupyter-widgets/base",
          "model_name": "LayoutModel",
          "model_module_version": "1.2.0",
          "state": {
            "_model_module": "@jupyter-widgets/base",
            "_model_module_version": "1.2.0",
            "_model_name": "LayoutModel",
            "_view_count": null,
            "_view_module": "@jupyter-widgets/base",
            "_view_module_version": "1.2.0",
            "_view_name": "LayoutView",
            "align_content": null,
            "align_items": null,
            "align_self": null,
            "border": null,
            "bottom": null,
            "display": null,
            "flex": null,
            "flex_flow": null,
            "grid_area": null,
            "grid_auto_columns": null,
            "grid_auto_flow": null,
            "grid_auto_rows": null,
            "grid_column": null,
            "grid_gap": null,
            "grid_row": null,
            "grid_template_areas": null,
            "grid_template_columns": null,
            "grid_template_rows": null,
            "height": null,
            "justify_content": null,
            "justify_items": null,
            "left": null,
            "margin": null,
            "max_height": null,
            "max_width": null,
            "min_height": null,
            "min_width": null,
            "object_fit": null,
            "object_position": null,
            "order": null,
            "overflow": null,
            "overflow_x": null,
            "overflow_y": null,
            "padding": null,
            "right": null,
            "top": null,
            "visibility": null,
            "width": null
          }
        },
        "ceb1c9b1340b4213b848b1853076e4a7": {
          "model_module": "@jupyter-widgets/controls",
          "model_name": "ProgressStyleModel",
          "model_module_version": "1.5.0",
          "state": {
            "_model_module": "@jupyter-widgets/controls",
            "_model_module_version": "1.5.0",
            "_model_name": "ProgressStyleModel",
            "_view_count": null,
            "_view_module": "@jupyter-widgets/base",
            "_view_module_version": "1.2.0",
            "_view_name": "StyleView",
            "bar_color": null,
            "description_width": ""
          }
        },
        "bed1246123794e259bacd1412efd7ab8": {
          "model_module": "@jupyter-widgets/base",
          "model_name": "LayoutModel",
          "model_module_version": "1.2.0",
          "state": {
            "_model_module": "@jupyter-widgets/base",
            "_model_module_version": "1.2.0",
            "_model_name": "LayoutModel",
            "_view_count": null,
            "_view_module": "@jupyter-widgets/base",
            "_view_module_version": "1.2.0",
            "_view_name": "LayoutView",
            "align_content": null,
            "align_items": null,
            "align_self": null,
            "border": null,
            "bottom": null,
            "display": null,
            "flex": null,
            "flex_flow": null,
            "grid_area": null,
            "grid_auto_columns": null,
            "grid_auto_flow": null,
            "grid_auto_rows": null,
            "grid_column": null,
            "grid_gap": null,
            "grid_row": null,
            "grid_template_areas": null,
            "grid_template_columns": null,
            "grid_template_rows": null,
            "height": null,
            "justify_content": null,
            "justify_items": null,
            "left": null,
            "margin": null,
            "max_height": null,
            "max_width": null,
            "min_height": null,
            "min_width": null,
            "object_fit": null,
            "object_position": null,
            "order": null,
            "overflow": null,
            "overflow_x": null,
            "overflow_y": null,
            "padding": null,
            "right": null,
            "top": null,
            "visibility": null,
            "width": null
          }
        },
        "422e862b52844f65bbce2ce9a2a6948e": {
          "model_module": "@jupyter-widgets/controls",
          "model_name": "DescriptionStyleModel",
          "model_module_version": "1.5.0",
          "state": {
            "_model_module": "@jupyter-widgets/controls",
            "_model_module_version": "1.5.0",
            "_model_name": "DescriptionStyleModel",
            "_view_count": null,
            "_view_module": "@jupyter-widgets/base",
            "_view_module_version": "1.2.0",
            "_view_name": "StyleView",
            "description_width": ""
          }
        },
        "bb948e6517e04ff58febea0cd25ff51f": {
          "model_module": "@jupyter-widgets/controls",
          "model_name": "HBoxModel",
          "model_module_version": "1.5.0",
          "state": {
            "_dom_classes": [],
            "_model_module": "@jupyter-widgets/controls",
            "_model_module_version": "1.5.0",
            "_model_name": "HBoxModel",
            "_view_count": null,
            "_view_module": "@jupyter-widgets/controls",
            "_view_module_version": "1.5.0",
            "_view_name": "HBoxView",
            "box_style": "",
            "children": [
              "IPY_MODEL_8bb729ae6cc44ee7bf14fe9f6b4a8aed",
              "IPY_MODEL_dc5c228820c84041b29fd13214d74a23",
              "IPY_MODEL_bd3840a284304eee999a0de9bbf0c106"
            ],
            "layout": "IPY_MODEL_2033b3b3f95e47d68e5a37281b6a1daf"
          }
        },
        "8bb729ae6cc44ee7bf14fe9f6b4a8aed": {
          "model_module": "@jupyter-widgets/controls",
          "model_name": "HTMLModel",
          "model_module_version": "1.5.0",
          "state": {
            "_dom_classes": [],
            "_model_module": "@jupyter-widgets/controls",
            "_model_module_version": "1.5.0",
            "_model_name": "HTMLModel",
            "_view_count": null,
            "_view_module": "@jupyter-widgets/controls",
            "_view_module_version": "1.5.0",
            "_view_name": "HTMLView",
            "description": "",
            "description_tooltip": null,
            "layout": "IPY_MODEL_747e39e09ec240a78f013969668be761",
            "placeholder": "​",
            "style": "IPY_MODEL_c7548e797099488b9f7a32881556d0c1",
            "value": ""
          }
        },
        "dc5c228820c84041b29fd13214d74a23": {
          "model_module": "@jupyter-widgets/controls",
          "model_name": "FloatProgressModel",
          "model_module_version": "1.5.0",
          "state": {
            "_dom_classes": [],
            "_model_module": "@jupyter-widgets/controls",
            "_model_module_version": "1.5.0",
            "_model_name": "FloatProgressModel",
            "_view_count": null,
            "_view_module": "@jupyter-widgets/controls",
            "_view_module_version": "1.5.0",
            "_view_name": "ProgressView",
            "bar_style": "success",
            "description": "",
            "description_tooltip": null,
            "layout": "IPY_MODEL_5b6702b2d6d2497bb77f0ed2d8121be5",
            "max": 1,
            "min": 0,
            "orientation": "horizontal",
            "style": "IPY_MODEL_a25f15cb162e46a196d99d8de093a886",
            "value": 1
          }
        },
        "bd3840a284304eee999a0de9bbf0c106": {
          "model_module": "@jupyter-widgets/controls",
          "model_name": "HTMLModel",
          "model_module_version": "1.5.0",
          "state": {
            "_dom_classes": [],
            "_model_module": "@jupyter-widgets/controls",
            "_model_module_version": "1.5.0",
            "_model_name": "HTMLModel",
            "_view_count": null,
            "_view_module": "@jupyter-widgets/controls",
            "_view_module_version": "1.5.0",
            "_view_name": "HTMLView",
            "description": "",
            "description_tooltip": null,
            "layout": "IPY_MODEL_1358ca952f954ab79880b58820148d3b",
            "placeholder": "​",
            "style": "IPY_MODEL_b8d4dfbd865e4d8594a637a0cf1966bf",
            "value": " 313/? [00:01&lt;00:00, 287.22it/s]"
          }
        },
        "2033b3b3f95e47d68e5a37281b6a1daf": {
          "model_module": "@jupyter-widgets/base",
          "model_name": "LayoutModel",
          "model_module_version": "1.2.0",
          "state": {
            "_model_module": "@jupyter-widgets/base",
            "_model_module_version": "1.2.0",
            "_model_name": "LayoutModel",
            "_view_count": null,
            "_view_module": "@jupyter-widgets/base",
            "_view_module_version": "1.2.0",
            "_view_name": "LayoutView",
            "align_content": null,
            "align_items": null,
            "align_self": null,
            "border": null,
            "bottom": null,
            "display": null,
            "flex": null,
            "flex_flow": null,
            "grid_area": null,
            "grid_auto_columns": null,
            "grid_auto_flow": null,
            "grid_auto_rows": null,
            "grid_column": null,
            "grid_gap": null,
            "grid_row": null,
            "grid_template_areas": null,
            "grid_template_columns": null,
            "grid_template_rows": null,
            "height": null,
            "justify_content": null,
            "justify_items": null,
            "left": null,
            "margin": null,
            "max_height": null,
            "max_width": null,
            "min_height": null,
            "min_width": null,
            "object_fit": null,
            "object_position": null,
            "order": null,
            "overflow": null,
            "overflow_x": null,
            "overflow_y": null,
            "padding": null,
            "right": null,
            "top": null,
            "visibility": null,
            "width": null
          }
        },
        "747e39e09ec240a78f013969668be761": {
          "model_module": "@jupyter-widgets/base",
          "model_name": "LayoutModel",
          "model_module_version": "1.2.0",
          "state": {
            "_model_module": "@jupyter-widgets/base",
            "_model_module_version": "1.2.0",
            "_model_name": "LayoutModel",
            "_view_count": null,
            "_view_module": "@jupyter-widgets/base",
            "_view_module_version": "1.2.0",
            "_view_name": "LayoutView",
            "align_content": null,
            "align_items": null,
            "align_self": null,
            "border": null,
            "bottom": null,
            "display": null,
            "flex": null,
            "flex_flow": null,
            "grid_area": null,
            "grid_auto_columns": null,
            "grid_auto_flow": null,
            "grid_auto_rows": null,
            "grid_column": null,
            "grid_gap": null,
            "grid_row": null,
            "grid_template_areas": null,
            "grid_template_columns": null,
            "grid_template_rows": null,
            "height": null,
            "justify_content": null,
            "justify_items": null,
            "left": null,
            "margin": null,
            "max_height": null,
            "max_width": null,
            "min_height": null,
            "min_width": null,
            "object_fit": null,
            "object_position": null,
            "order": null,
            "overflow": null,
            "overflow_x": null,
            "overflow_y": null,
            "padding": null,
            "right": null,
            "top": null,
            "visibility": null,
            "width": null
          }
        },
        "c7548e797099488b9f7a32881556d0c1": {
          "model_module": "@jupyter-widgets/controls",
          "model_name": "DescriptionStyleModel",
          "model_module_version": "1.5.0",
          "state": {
            "_model_module": "@jupyter-widgets/controls",
            "_model_module_version": "1.5.0",
            "_model_name": "DescriptionStyleModel",
            "_view_count": null,
            "_view_module": "@jupyter-widgets/base",
            "_view_module_version": "1.2.0",
            "_view_name": "StyleView",
            "description_width": ""
          }
        },
        "5b6702b2d6d2497bb77f0ed2d8121be5": {
          "model_module": "@jupyter-widgets/base",
          "model_name": "LayoutModel",
          "model_module_version": "1.2.0",
          "state": {
            "_model_module": "@jupyter-widgets/base",
            "_model_module_version": "1.2.0",
            "_model_name": "LayoutModel",
            "_view_count": null,
            "_view_module": "@jupyter-widgets/base",
            "_view_module_version": "1.2.0",
            "_view_name": "LayoutView",
            "align_content": null,
            "align_items": null,
            "align_self": null,
            "border": null,
            "bottom": null,
            "display": null,
            "flex": null,
            "flex_flow": null,
            "grid_area": null,
            "grid_auto_columns": null,
            "grid_auto_flow": null,
            "grid_auto_rows": null,
            "grid_column": null,
            "grid_gap": null,
            "grid_row": null,
            "grid_template_areas": null,
            "grid_template_columns": null,
            "grid_template_rows": null,
            "height": null,
            "justify_content": null,
            "justify_items": null,
            "left": null,
            "margin": null,
            "max_height": null,
            "max_width": null,
            "min_height": null,
            "min_width": null,
            "object_fit": null,
            "object_position": null,
            "order": null,
            "overflow": null,
            "overflow_x": null,
            "overflow_y": null,
            "padding": null,
            "right": null,
            "top": null,
            "visibility": null,
            "width": "20px"
          }
        },
        "a25f15cb162e46a196d99d8de093a886": {
          "model_module": "@jupyter-widgets/controls",
          "model_name": "ProgressStyleModel",
          "model_module_version": "1.5.0",
          "state": {
            "_model_module": "@jupyter-widgets/controls",
            "_model_module_version": "1.5.0",
            "_model_name": "ProgressStyleModel",
            "_view_count": null,
            "_view_module": "@jupyter-widgets/base",
            "_view_module_version": "1.2.0",
            "_view_name": "StyleView",
            "bar_color": null,
            "description_width": ""
          }
        },
        "1358ca952f954ab79880b58820148d3b": {
          "model_module": "@jupyter-widgets/base",
          "model_name": "LayoutModel",
          "model_module_version": "1.2.0",
          "state": {
            "_model_module": "@jupyter-widgets/base",
            "_model_module_version": "1.2.0",
            "_model_name": "LayoutModel",
            "_view_count": null,
            "_view_module": "@jupyter-widgets/base",
            "_view_module_version": "1.2.0",
            "_view_name": "LayoutView",
            "align_content": null,
            "align_items": null,
            "align_self": null,
            "border": null,
            "bottom": null,
            "display": null,
            "flex": null,
            "flex_flow": null,
            "grid_area": null,
            "grid_auto_columns": null,
            "grid_auto_flow": null,
            "grid_auto_rows": null,
            "grid_column": null,
            "grid_gap": null,
            "grid_row": null,
            "grid_template_areas": null,
            "grid_template_columns": null,
            "grid_template_rows": null,
            "height": null,
            "justify_content": null,
            "justify_items": null,
            "left": null,
            "margin": null,
            "max_height": null,
            "max_width": null,
            "min_height": null,
            "min_width": null,
            "object_fit": null,
            "object_position": null,
            "order": null,
            "overflow": null,
            "overflow_x": null,
            "overflow_y": null,
            "padding": null,
            "right": null,
            "top": null,
            "visibility": null,
            "width": null
          }
        },
        "b8d4dfbd865e4d8594a637a0cf1966bf": {
          "model_module": "@jupyter-widgets/controls",
          "model_name": "DescriptionStyleModel",
          "model_module_version": "1.5.0",
          "state": {
            "_model_module": "@jupyter-widgets/controls",
            "_model_module_version": "1.5.0",
            "_model_name": "DescriptionStyleModel",
            "_view_count": null,
            "_view_module": "@jupyter-widgets/base",
            "_view_module_version": "1.2.0",
            "_view_name": "StyleView",
            "description_width": ""
          }
        }
      }
    }
  },
  "cells": [
    {
      "cell_type": "markdown",
      "metadata": {
        "id": "view-in-github",
        "colab_type": "text"
      },
      "source": [
        "<a href=\"https://colab.research.google.com/github/Jaizxzx/Neural-Network_and_Deep-Learning/blob/main/PyTorch/Practice/Computer_vision_exercise%5BFashion_MNIST%5D.ipynb\" target=\"_parent\"><img src=\"https://colab.research.google.com/assets/colab-badge.svg\" alt=\"Open In Colab\"/></a>"
      ]
    },
    {
      "cell_type": "markdown",
      "source": [
        "# 03. PyTorch Computer Vision Exercises\n",
        "\n",
        "The following is a collection of exercises based on computer vision fundamentals in PyTorch.\n",
        "\n",
        "They're a bunch of fun.\n",
        "\n",
        "You're going to get to write plenty of code!\n",
        "\n",
        "## Resources\n",
        "\n",
        "1. These exercises are based on [notebook 03 of the Learn PyTorch for Deep Learning course](https://www.learnpytorch.io/03_pytorch_computer_vision/).\n",
        "2. See a live [walkthrough of the solutions (errors and all) on YouTube](https://youtu.be/_PibmqpEyhA).\n",
        "  * **Note:** Going through these exercises took me just over 3 hours of solid coding, so you should expect around the same.\n",
        "3. See [other solutions on the course GitHub](https://github.com/mrdbourke/pytorch-deep-learning/tree/main/extras/solutions)."
      ],
      "metadata": {
        "id": "Vex99np2wFVt"
      }
    },
    {
      "cell_type": "code",
      "source": [
        "# Check for GPU\n",
        "!nvidia-smi"
      ],
      "metadata": {
        "colab": {
          "base_uri": "https://localhost:8080/"
        },
        "id": "GaeYzOTLwWh2",
        "outputId": "1cdab653-1dc7-4624-beef-d82a6ceff664"
      },
      "execution_count": 42,
      "outputs": [
        {
          "output_type": "stream",
          "name": "stdout",
          "text": [
            "Mon Jul 29 08:01:29 2024       \n",
            "+---------------------------------------------------------------------------------------+\n",
            "| NVIDIA-SMI 535.104.05             Driver Version: 535.104.05   CUDA Version: 12.2     |\n",
            "|-----------------------------------------+----------------------+----------------------+\n",
            "| GPU  Name                 Persistence-M | Bus-Id        Disp.A | Volatile Uncorr. ECC |\n",
            "| Fan  Temp   Perf          Pwr:Usage/Cap |         Memory-Usage | GPU-Util  Compute M. |\n",
            "|                                         |                      |               MIG M. |\n",
            "|=========================================+======================+======================|\n",
            "|   0  Tesla T4                       Off | 00000000:00:04.0 Off |                    0 |\n",
            "| N/A   39C    P8               9W /  70W |      3MiB / 15360MiB |      0%      Default |\n",
            "|                                         |                      |                  N/A |\n",
            "+-----------------------------------------+----------------------+----------------------+\n",
            "                                                                                         \n",
            "+---------------------------------------------------------------------------------------+\n",
            "| Processes:                                                                            |\n",
            "|  GPU   GI   CI        PID   Type   Process name                            GPU Memory |\n",
            "|        ID   ID                                                             Usage      |\n",
            "|=======================================================================================|\n",
            "|  No running processes found                                                           |\n",
            "+---------------------------------------------------------------------------------------+\n"
          ]
        }
      ]
    },
    {
      "cell_type": "code",
      "source": [
        "# Import torch\n",
        "import torch\n",
        "\n",
        "# Exercises require PyTorch > 1.10.0\n",
        "print(torch.__version__)\n",
        "\n",
        "# TODO: Setup device agnostic code\n",
        "device = 'cuda' if torch.cuda.is_available() else 'cpu'\n"
      ],
      "metadata": {
        "colab": {
          "base_uri": "https://localhost:8080/"
        },
        "id": "DNwZLMbCzJLk",
        "outputId": "8617ee8a-3cfc-4bd1-fa97-b5ec9b99d01a"
      },
      "execution_count": 43,
      "outputs": [
        {
          "output_type": "stream",
          "name": "stdout",
          "text": [
            "2.3.1+cu121\n"
          ]
        }
      ]
    },
    {
      "cell_type": "markdown",
      "source": [
        "## 1. What are 3 areas in industry where computer vision is currently being used?"
      ],
      "metadata": {
        "id": "FSFX7tc1w-en"
      }
    },
    {
      "cell_type": "markdown",
      "source": [
        "Three main areas where computer vision is used are :\n",
        "1. Medical Imaging - To scan the mri images and detect or alert for the possibility of diseases\n",
        "2. Autonomous Vehicles - Extensively used in autonomus vehicles like Tesla's Autopilot\n",
        "3. Robotics - Works as there eyes and helps them to navigate the environment and perform certain actions based on the inpu t received from the environment."
      ],
      "metadata": {
        "id": "VyWRkvWGbCXj"
      }
    },
    {
      "cell_type": "markdown",
      "source": [
        "## 2. Search \"what is overfitting in machine learning\" and write down a sentence about what you find."
      ],
      "metadata": {
        "id": "oBK-WI6YxDYa"
      }
    },
    {
      "cell_type": "markdown",
      "source": [
        "**Overfitting is when our model tries to memorize the test dataset and doesn't\n",
        "generalize well to new data and in this case it mostly performs very well on\n",
        "the train dataset but performs very poor on the test dataset.**"
      ],
      "metadata": {
        "id": "d1rxD6GObCqh"
      }
    },
    {
      "cell_type": "markdown",
      "source": [
        "## 3. Search \"ways to prevent overfitting in machine learning\", write down 3 of the things you find and a sentence about each.\n",
        "> **Note:** there are lots of these, so don't worry too much about all of them, just pick 3 and start with those."
      ],
      "metadata": {
        "id": "XeYFEqw8xK26"
      }
    },
    {
      "cell_type": "markdown",
      "source": [
        "1. By adding dropout layer so that the network is trained on different feature\n",
        "and it generalises for all of the cases rather than remembering the train cases.\n",
        "\n",
        "2. Increasing the training dataset size so that the model can get more general\n",
        "patterns rather than learning the few and remembering them.\n",
        "\n",
        "3. Data Augmentation by applying transormations to the given dataset."
      ],
      "metadata": {
        "id": "ocvOdWKcbEKr"
      }
    },
    {
      "cell_type": "markdown",
      "source": [
        "## 4. Spend 20-minutes reading and clicking through the [CNN Explainer website](https://poloclub.github.io/cnn-explainer/).\n",
        "\n",
        "* Upload your own example image using the \"upload\" button on the website and see what happens in each layer of a CNN as your image passes through it."
      ],
      "metadata": {
        "id": "DKdEEFEqxM-8"
      }
    },
    {
      "cell_type": "markdown",
      "source": [
        "Uploaded my own render from the current Unreal Engine Cinematic project\n",
        "conataining Ferrari SF 90 Stradale and the model Tiny VGG predicted it correctly\n",
        "to be a sports car with a 57.64% surity."
      ],
      "metadata": {
        "id": "TqZaJIRMbFtS"
      }
    },
    {
      "cell_type": "markdown",
      "source": [
        "## 5. Load the [`torchvision.datasets.MNIST()`](https://pytorch.org/vision/stable/generated/torchvision.datasets.MNIST.html#torchvision.datasets.MNIST) train and test datasets."
      ],
      "metadata": {
        "id": "lvf-3pODxXYI"
      }
    },
    {
      "cell_type": "code",
      "source": [
        "import torchvision\n",
        "from torchvision import datasets, transforms\n",
        "from torch.utils.data import DataLoader\n",
        "import matplotlib.pyplot as plt\n",
        "\n",
        "data_test = datasets.FashionMNIST(\n",
        "    root='data',\n",
        "    train=False,\n",
        "    download=True,\n",
        "    transform=transforms.ToTensor()\n",
        ")\n",
        "data_train = datasets.FashionMNIST(\n",
        "    root='data',\n",
        "    train=True,\n",
        "    download=True,\n",
        "    transform=transforms.ToTensor()\n",
        ")"
      ],
      "metadata": {
        "id": "yPllCjcbtDAJ"
      },
      "execution_count": 44,
      "outputs": []
    },
    {
      "cell_type": "markdown",
      "source": [
        "## 6. Visualize at least 5 different samples of the MNIST training dataset."
      ],
      "metadata": {
        "id": "qxZW-uAbxe_F"
      }
    },
    {
      "cell_type": "code",
      "source": [
        "class_names = ['T-shirt/top', 'Trouser', 'Pullover', 'Dress', 'Coat',\n",
        "               'Sandal', 'Shirt', 'Sneaker', 'Bag', 'Ankle boot']\n",
        "\n",
        "print(class_names[data_train[0][1]])\n",
        "plt.imshow(data_train[0][0].squeeze(), cmap='gray')\n",
        "plt.show()"
      ],
      "metadata": {
        "id": "QVFsYi1PbItE",
        "colab": {
          "base_uri": "https://localhost:8080/",
          "height": 448
        },
        "outputId": "0bdb5107-e19c-4e8e-d81a-98ee17fc548e"
      },
      "execution_count": 45,
      "outputs": [
        {
          "output_type": "stream",
          "name": "stdout",
          "text": [
            "Ankle boot\n"
          ]
        },
        {
          "output_type": "display_data",
          "data": {
            "text/plain": [
              "<Figure size 640x480 with 1 Axes>"
            ],
            "image/png": "[encoded data removed]"
          },
          "metadata": {}
        }
      ]
    },
    {
      "cell_type": "markdown",
      "source": [
        "## 7. Turn the MNIST train and test datasets into dataloaders using `torch.utils.data.DataLoader`, set the `batch_size=32`."
      ],
      "metadata": {
        "id": "JAPDzW0wxhi3"
      }
    },
    {
      "cell_type": "code",
      "source": [
        "data_train_loader = DataLoader(data_train, batch_size=32)\n",
        "data_test_loader = DataLoader(data_test, batch_size=32)"
      ],
      "metadata": {
        "id": "ALA6MPcFbJXQ"
      },
      "execution_count": 67,
      "outputs": []
    },
    {
      "cell_type": "markdown",
      "source": [
        "## 8. Recreate `model_2` used in notebook 03 (the same model from the [CNN Explainer website](https://poloclub.github.io/cnn-explainer/), also known as TinyVGG) capable of fitting on the MNIST dataset."
      ],
      "metadata": {
        "id": "bCCVfXk5xjYS"
      }
    },
    {
      "cell_type": "code",
      "source": [
        "from torch import nn\n",
        "class Fashion_MNIST_Model(nn.Module):\n",
        "    def __init__(self, input_shape: int, hidden_units: int, output_shape: int):\n",
        "        super().__init__()\n",
        "        self.conv1 = nn.Conv2d(in_channels=input_shape,\n",
        "                               out_channels=hidden_units,\n",
        "                               kernel_size=3,\n",
        "                               stride=1,\n",
        "                               padding=1)\n",
        "        self.relu = nn.ReLU()\n",
        "        self.maxpool = nn.MaxPool2d(kernel_size=2)\n",
        "        self.conv2 = nn.Conv2d(in_channels=hidden_units,\n",
        "                               out_channels=hidden_units * 2,\n",
        "                               kernel_size=3,\n",
        "                               stride=1,\n",
        "                               padding=1)\n",
        "        # Calculate the expected flattened size after convolutions and pooling\n",
        "        self.flatten = nn.Flatten()\n",
        "        # Assuming input size is 28x28, adjust if different\n",
        "        expected_flattened_size = (hidden_units * 2) * (28 // 2) * (28 // 2)\n",
        "        self.classifier = nn.Sequential(\n",
        "            nn.Linear(in_features=expected_flattened_size, out_features=output_shape)\n",
        "        )\n",
        "\n",
        "    def forward(self, x):\n",
        "        x = self.relu(self.conv1(x))\n",
        "        x = self.relu(self.conv2(x))\n",
        "        x = self.maxpool(x)\n",
        "        x = self.flatten(x) # Flatten the output before passing to the linear layer\n",
        "        x = self.classifier(x)\n",
        "        return x"
      ],
      "metadata": {
        "id": "S1GEBO-QZMwn"
      },
      "execution_count": 74,
      "outputs": []
    },
    {
      "cell_type": "code",
      "source": [
        "model = Fashion_MNIST_Model(input_shape=1, hidden_units=10, output_shape=10).to(device)\n",
        "model"
      ],
      "metadata": {
        "colab": {
          "base_uri": "https://localhost:8080/"
        },
        "id": "wTADPMbigphq",
        "outputId": "0545c3fe-8b0c-437a-b8bf-ffdd0690878b"
      },
      "execution_count": 75,
      "outputs": [
        {
          "output_type": "execute_result",
          "data": {
            "text/plain": [
              "Fashion_MNIST_Model(\n",
              "  (conv1): Conv2d(1, 10, kernel_size=(3, 3), stride=(1, 1), padding=(1, 1))\n",
              "  (relu): ReLU()\n",
              "  (maxpool): MaxPool2d(kernel_size=2, stride=2, padding=0, dilation=1, ceil_mode=False)\n",
              "  (conv2): Conv2d(10, 20, kernel_size=(3, 3), stride=(1, 1), padding=(1, 1))\n",
              "  (flatten): Flatten(start_dim=1, end_dim=-1)\n",
              "  (classifier): Sequential(\n",
              "    (0): Linear(in_features=3920, out_features=10, bias=True)\n",
              "  )\n",
              ")"
            ]
          },
          "metadata": {},
          "execution_count": 75
        }
      ]
    },
    {
      "cell_type": "code",
      "source": [
        "model.state_dict()"
      ],
      "metadata": {
        "colab": {
          "base_uri": "https://localhost:8080/"
        },
        "id": "TXyDIzJOhn1c",
        "outputId": "e74ec623-7c7a-4e8c-8259-72912cef7d8a"
      },
      "execution_count": 76,
      "outputs": [
        {
          "output_type": "execute_result",
          "data": {
            "text/plain": [
              "OrderedDict([('conv1.weight',\n",
              "              tensor([[[[-0.2907, -0.1775, -0.2597],\n",
              "                        [-0.3252,  0.1220,  0.1300],\n",
              "                        [-0.1623,  0.3313,  0.2797]]],\n",
              "              \n",
              "              \n",
              "                      [[[-0.1307, -0.2649,  0.2827],\n",
              "                        [ 0.1462, -0.0815,  0.1231],\n",
              "                        [-0.2151, -0.1206, -0.1722]]],\n",
              "              \n",
              "              \n",
              "                      [[[ 0.2081,  0.2194,  0.1471],\n",
              "                        [-0.0880, -0.2815,  0.2579],\n",
              "                        [-0.2904, -0.3234, -0.2400]]],\n",
              "              \n",
              "              \n",
              "                      [[[-0.2655,  0.0977, -0.2130],\n",
              "                        [-0.1304,  0.0178,  0.2097],\n",
              "                        [ 0.2261, -0.0774, -0.1384]]],\n",
              "              \n",
              "              \n",
              "                      [[[-0.2551,  0.1114, -0.0469],\n",
              "                        [ 0.3260,  0.0095, -0.1347],\n",
              "                        [ 0.2066, -0.2183,  0.2174]]],\n",
              "              \n",
              "              \n",
              "                      [[[ 0.2558,  0.2021,  0.1680],\n",
              "                        [-0.3014,  0.0692,  0.0538],\n",
              "                        [ 0.2509,  0.0193,  0.2514]]],\n",
              "              \n",
              "              \n",
              "                      [[[ 0.0156, -0.1550, -0.3161],\n",
              "                        [ 0.1469, -0.1365, -0.0200],\n",
              "                        [ 0.1748,  0.1881,  0.2178]]],\n",
              "              \n",
              "              \n",
              "                      [[[-0.2750, -0.0466, -0.1273],\n",
              "                        [ 0.0753,  0.2825, -0.0061],\n",
              "                        [-0.2977,  0.0147,  0.1550]]],\n",
              "              \n",
              "              \n",
              "                      [[[ 0.3216, -0.1632, -0.2365],\n",
              "                        [-0.1961,  0.0929, -0.1880],\n",
              "                        [-0.2055, -0.0136, -0.1530]]],\n",
              "              \n",
              "              \n",
              "                      [[[-0.3190,  0.0907,  0.3068],\n",
              "                        [ 0.0313,  0.0363, -0.0188],\n",
              "                        [ 0.2996, -0.0568,  0.1890]]]], device='cuda:0')),\n",
              "             ('conv1.bias',\n",
              "              tensor([ 0.2823,  0.0786,  0.3217,  0.3324, -0.2565,  0.2424,  0.2731,  0.2127,\n",
              "                      -0.0416,  0.0829], device='cuda:0')),\n",
              "             ('conv2.weight',\n",
              "              tensor([[[[ 0.0411,  0.0335,  0.0245],\n",
              "                        [-0.0306,  0.0329,  0.0985],\n",
              "                        [ 0.0962,  0.0982, -0.0010]],\n",
              "              \n",
              "                       [[-0.0063,  0.0249,  0.0513],\n",
              "                        [ 0.0158, -0.0435, -0.0861],\n",
              "                        [ 0.0204,  0.0858,  0.0454]],\n",
              "              \n",
              "                       [[-0.0254,  0.0579, -0.0098],\n",
              "                        [ 0.0971, -0.0686, -0.0821],\n",
              "                        [-0.0550,  0.1048,  0.0047]],\n",
              "              \n",
              "                       ...,\n",
              "              \n",
              "                       [[ 0.0280,  0.0899,  0.0027],\n",
              "                        [ 0.0571,  0.0585,  0.1047],\n",
              "                        [-0.0573,  0.0158, -0.0540]],\n",
              "              \n",
              "                       [[ 0.0983,  0.0476,  0.0162],\n",
              "                        [ 0.0663, -0.0537, -0.0296],\n",
              "                        [ 0.0220,  0.0087,  0.1039]],\n",
              "              \n",
              "                       [[ 0.0461,  0.0341, -0.0173],\n",
              "                        [-0.0883, -0.0536,  0.0115],\n",
              "                        [-0.0460,  0.0530,  0.0795]]],\n",
              "              \n",
              "              \n",
              "                      [[[ 0.0732, -0.0149, -0.0573],\n",
              "                        [-0.0134, -0.0974, -0.0579],\n",
              "                        [-0.0253, -0.0552,  0.0326]],\n",
              "              \n",
              "                       [[-0.0896,  0.0891, -0.0201],\n",
              "                        [ 0.0793,  0.0674, -0.0506],\n",
              "                        [-0.0895,  0.0750, -0.0963]],\n",
              "              \n",
              "                       [[-0.0256,  0.0269, -0.0284],\n",
              "                        [-0.0054,  0.0565, -0.0157],\n",
              "                        [-0.0141,  0.0072,  0.0881]],\n",
              "              \n",
              "                       ...,\n",
              "              \n",
              "                       [[ 0.0364, -0.0579,  0.0377],\n",
              "                        [-0.1020, -0.0999, -0.0130],\n",
              "                        [ 0.0067, -0.0497,  0.0047]],\n",
              "              \n",
              "                       [[ 0.0493, -0.0067, -0.0892],\n",
              "                        [ 0.0844,  0.0336,  0.0809],\n",
              "                        [ 0.1015,  0.0727,  0.0874]],\n",
              "              \n",
              "                       [[ 0.0992, -0.0430, -0.0293],\n",
              "                        [-0.0689, -0.1008,  0.0607],\n",
              "                        [-0.0847,  0.0160, -0.0259]]],\n",
              "              \n",
              "              \n",
              "                      [[[-0.0672,  0.0838, -0.0150],\n",
              "                        [-0.0442, -0.0494, -0.0237],\n",
              "                        [ 0.0719,  0.0857,  0.0594]],\n",
              "              \n",
              "                       [[-0.0175, -0.0284,  0.0783],\n",
              "                        [ 0.1005,  0.0876,  0.0507],\n",
              "                        [-0.0035,  0.0546, -0.0095]],\n",
              "              \n",
              "                       [[-0.0886,  0.0615, -0.0606],\n",
              "                        [ 0.0629, -0.0224, -0.1024],\n",
              "                        [ 0.0769,  0.0708,  0.0758]],\n",
              "              \n",
              "                       ...,\n",
              "              \n",
              "                       [[ 0.0954, -0.0790,  0.0989],\n",
              "                        [ 0.1037, -0.0594,  0.0744],\n",
              "                        [ 0.0598, -0.0084,  0.0839]],\n",
              "              \n",
              "                       [[-0.0201, -0.0772,  0.0125],\n",
              "                        [-0.0355, -0.1045, -0.0834],\n",
              "                        [ 0.1010, -0.0768,  0.0625]],\n",
              "              \n",
              "                       [[-0.0764,  0.0771,  0.0299],\n",
              "                        [ 0.0316, -0.0066,  0.0122],\n",
              "                        [ 0.0380, -0.0654,  0.0462]]],\n",
              "              \n",
              "              \n",
              "                      ...,\n",
              "              \n",
              "              \n",
              "                      [[[-0.1025, -0.0508, -0.0068],\n",
              "                        [-0.0088, -0.0085,  0.0383],\n",
              "                        [-0.0027,  0.0199,  0.0714]],\n",
              "              \n",
              "                       [[ 0.0169, -0.0028, -0.0451],\n",
              "                        [ 0.0399,  0.0009, -0.0174],\n",
              "                        [-0.0251, -0.0860,  0.0310]],\n",
              "              \n",
              "                       [[-0.0109, -0.0986, -0.0219],\n",
              "                        [ 0.0034,  0.0717, -0.0506],\n",
              "                        [-0.0499, -0.0038, -0.0909]],\n",
              "              \n",
              "                       ...,\n",
              "              \n",
              "                       [[ 0.0583, -0.0694,  0.0093],\n",
              "                        [ 0.0233,  0.0697, -0.0629],\n",
              "                        [-0.0444,  0.0052, -0.0706]],\n",
              "              \n",
              "                       [[ 0.0861,  0.1047,  0.0619],\n",
              "                        [-0.0280,  0.0024,  0.0061],\n",
              "                        [ 0.0672,  0.0143, -0.1002]],\n",
              "              \n",
              "                       [[ 0.0344,  0.0328,  0.0732],\n",
              "                        [ 0.0872, -0.0525,  0.0561],\n",
              "                        [ 0.0040, -0.0426,  0.0443]]],\n",
              "              \n",
              "              \n",
              "                      [[[ 0.0835, -0.0927, -0.0003],\n",
              "                        [-0.1031,  0.0716,  0.0492],\n",
              "                        [ 0.0779, -0.0208,  0.0140]],\n",
              "              \n",
              "                       [[ 0.1006,  0.0278, -0.0101],\n",
              "                        [ 0.1005, -0.0669,  0.0369],\n",
              "                        [-0.0185,  0.0752, -0.0003]],\n",
              "              \n",
              "                       [[ 0.0466,  0.0320,  0.0864],\n",
              "                        [ 0.0302, -0.0136,  0.0093],\n",
              "                        [ 0.0854,  0.1008, -0.0052]],\n",
              "              \n",
              "                       ...,\n",
              "              \n",
              "                       [[-0.0562,  0.0589,  0.0724],\n",
              "                        [-0.0432,  0.0822,  0.0144],\n",
              "                        [-0.1021, -0.0704,  0.0269]],\n",
              "              \n",
              "                       [[ 0.0401, -0.0866, -0.0847],\n",
              "                        [-0.0050, -0.0683,  0.0328],\n",
              "                        [ 0.0506, -0.0331, -0.0610]],\n",
              "              \n",
              "                       [[-0.0802,  0.0029,  0.0622],\n",
              "                        [ 0.0162, -0.0189, -0.0260],\n",
              "                        [ 0.1005,  0.0112,  0.0944]]],\n",
              "              \n",
              "              \n",
              "                      [[[-0.0781, -0.0967,  0.0630],\n",
              "                        [ 0.0775,  0.0263,  0.0684],\n",
              "                        [-0.0258, -0.0036,  0.0633]],\n",
              "              \n",
              "                       [[ 0.0843, -0.0183, -0.0785],\n",
              "                        [-0.0431, -0.0979,  0.0593],\n",
              "                        [ 0.0937,  0.0137,  0.0409]],\n",
              "              \n",
              "                       [[-0.0307,  0.0695, -0.0586],\n",
              "                        [ 0.0507, -0.0944, -0.0671],\n",
              "                        [-0.0588,  0.0985,  0.0788]],\n",
              "              \n",
              "                       ...,\n",
              "              \n",
              "                       [[ 0.0990, -0.0439, -0.0093],\n",
              "                        [-0.0552, -0.0151,  0.0823],\n",
              "                        [ 0.0866, -0.0041,  0.0726]],\n",
              "              \n",
              "                       [[ 0.0980, -0.0475,  0.0899],\n",
              "                        [-0.0544,  0.0829, -0.0544],\n",
              "                        [-0.0080,  0.0985,  0.0909]],\n",
              "              \n",
              "                       [[ 0.0929, -0.0444, -0.0497],\n",
              "                        [-0.0898, -0.1028, -0.1051],\n",
              "                        [ 0.0728,  0.0032,  0.0685]]]], device='cuda:0')),\n",
              "             ('conv2.bias',\n",
              "              tensor([-5.0226e-02, -7.3204e-03,  8.2529e-02,  6.4032e-02,  3.9934e-02,\n",
              "                       1.0367e-01, -6.4625e-02, -2.8620e-02,  2.0895e-02,  3.4467e-02,\n",
              "                      -7.4663e-02, -4.8504e-02,  3.9826e-02,  4.3204e-02, -1.0309e-01,\n",
              "                       9.1897e-02, -5.8241e-02,  6.2687e-02,  1.3752e-02, -7.0695e-05],\n",
              "                     device='cuda:0')),\n",
              "             ('classifier.0.weight',\n",
              "              tensor([[ 0.0095,  0.0129, -0.0087,  ...,  0.0014,  0.0135, -0.0072],\n",
              "                      [-0.0005,  0.0040, -0.0024,  ...,  0.0129, -0.0012, -0.0105],\n",
              "                      [ 0.0045, -0.0081, -0.0139,  ...,  0.0028,  0.0017,  0.0080],\n",
              "                      ...,\n",
              "                      [-0.0049, -0.0037,  0.0092,  ..., -0.0091, -0.0082,  0.0140],\n",
              "                      [-0.0028, -0.0023,  0.0140,  ..., -0.0075,  0.0032, -0.0112],\n",
              "                      [ 0.0046,  0.0062,  0.0061,  ...,  0.0064, -0.0099,  0.0134]],\n",
              "                     device='cuda:0')),\n",
              "             ('classifier.0.bias',\n",
              "              tensor([-0.0068,  0.0137,  0.0035,  0.0051, -0.0083, -0.0063,  0.0152,  0.0147,\n",
              "                       0.0016,  0.0150], device='cuda:0'))])"
            ]
          },
          "metadata": {},
          "execution_count": 76
        }
      ]
    },
    {
      "cell_type": "code",
      "source": [
        "device"
      ],
      "metadata": {
        "id": "jSo6vVWFbNLD",
        "colab": {
          "base_uri": "https://localhost:8080/",
          "height": 36
        },
        "outputId": "fa88b15d-71c7-4837-87fe-9624ce44c5bf"
      },
      "execution_count": 77,
      "outputs": [
        {
          "output_type": "execute_result",
          "data": {
            "text/plain": [
              "'cuda'"
            ],
            "application/vnd.google.colaboratory.intrinsic+json": {
              "type": "string"
            }
          },
          "metadata": {},
          "execution_count": 77
        }
      ]
    },
    {
      "cell_type": "markdown",
      "source": [
        "## 9. Train the model you built in exercise 8. for 5 epochs on CPU and GPU and see how long it takes on each."
      ],
      "metadata": {
        "id": "sf_3zUr7xlhy"
      }
    },
    {
      "cell_type": "code",
      "source": [
        "from tqdm.auto import tqdm\n",
        "\n",
        "model_gpu = Fashion_MNIST_Model(input_shape=1,\n",
        "                        hidden_units=10,\n",
        "                        output_shape=10).to(device)\n",
        "\n",
        "loss_fn = nn.CrossEntropyLoss()\n",
        "optimizer = torch.optim.SGD(model_gpu.parameters(), lr=0.1)\n",
        "\n",
        "epochs = 5\n",
        "for epoch in tqdm(range(epochs)):\n",
        "  train_loss = 0\n",
        "  for batch, (X, y) in enumerate(data_train_loader):\n",
        "    model_gpu.train()\n",
        "\n",
        "    # Put data on CPU\n",
        "    X, y = X.to(device), y.to(device)\n",
        "\n",
        "    # Forward pass\n",
        "    y_pred = model_gpu(X)\n",
        "\n",
        "    # Loss calculation\n",
        "    loss = loss_fn(y_pred, y)\n",
        "    train_loss += loss\n",
        "\n",
        "    # Optimizer zero grad\n",
        "    optimizer.zero_grad()\n",
        "\n",
        "    # Loss backward\n",
        "    loss.backward()\n",
        "\n",
        "    # Step the optimizer\n",
        "    optimizer.step()\n",
        "\n",
        "  # Adjust train loss for number of batches\n",
        "  train_loss /= len(data_train_loader)\n",
        "\n",
        "  ### Testing loop\n",
        "  test_loss_total = 0\n",
        "\n",
        "  # Put model in eval mode\n",
        "  model_gpu.eval()\n",
        "\n",
        "  # Turn on inference mode\n",
        "  with torch.inference_mode():\n",
        "    for batch, (X_test, y_test) in enumerate(data_test_loader):\n",
        "      # Make sure test data on CPU\n",
        "      X_test, y_test = X_test.to(device), y_test.to(device)\n",
        "      test_pred = model_gpu(X_test)\n",
        "      test_loss = loss_fn(test_pred, y_test)\n",
        "\n",
        "      test_loss_total += test_loss\n",
        "\n",
        "    test_loss_total /= len(data_test_loader)\n",
        "\n",
        "  # Print out what's happening\n",
        "  print(f\"Epoch: {epoch} | Loss: {train_loss:.3f} | Test loss: {test_loss_total:.3f}\")\n",
        ""
      ],
      "metadata": {
        "colab": {
          "base_uri": "https://localhost:8080/",
          "height": 140,
          "referenced_widgets": [
            "38aded93ff51403fb645fc71520d7a23",
            "0695fcbf39064dfa8cf09e477cb28feb",
            "b6e422347e864134823153b3ed7c7b17",
            "f7913062d7a640c78fc36280b1fbaed7",
            "d4fe3c7d59954354b4cc28291afe5e4e",
            "7220ce959646435c8572fec9bb607def",
            "1fc94cd84ad140339bfad9084461439a",
            "7c4bbc3b4ab9439b93c3629cefd29b76",
            "ceb1c9b1340b4213b848b1853076e4a7",
            "bed1246123794e259bacd1412efd7ab8",
            "422e862b52844f65bbce2ce9a2a6948e"
          ]
        },
        "id": "l0MMh3-Gh5u6",
        "outputId": "cc392d2e-de6e-4e22-b764-179f2cf9e79d"
      },
      "execution_count": 78,
      "outputs": [
        {
          "output_type": "display_data",
          "data": {
            "text/plain": [
              "  0%|          | 0/5 [00:00<?, ?it/s]"
            ],
            "application/vnd.jupyter.widget-view+json": {
              "version_major": 2,
              "version_minor": 0,
              "model_id": "38aded93ff51403fb645fc71520d7a23"
            }
          },
          "metadata": {}
        },
        {
          "output_type": "stream",
          "name": "stdout",
          "text": [
            "Epoch: 0 | Loss: 0.451 | Test loss: 0.364\n",
            "Epoch: 1 | Loss: 0.301 | Test loss: 0.309\n",
            "Epoch: 2 | Loss: 0.262 | Test loss: 0.285\n",
            "Epoch: 3 | Loss: 0.238 | Test loss: 0.301\n",
            "Epoch: 4 | Loss: 0.221 | Test loss: 0.299\n"
          ]
        }
      ]
    },
    {
      "cell_type": "markdown",
      "source": [
        "## 10. Make predictions using your trained model and visualize at least 5 of them comparing the prediciton to the target label."
      ],
      "metadata": {
        "id": "w1CsHhPpxp1w"
      }
    },
    {
      "cell_type": "code",
      "source": [
        "plt.imshow(data_test[0][0].squeeze(), cmap=\"gray\")\n",
        "plt.title(f\"Prediction: {class_names[torch.argmax(torch.softmax(model_gpu(data_test[0][0].unsqueeze(dim=0).to(device)), dim=1))]}\")\n",
        "plt.show()"
      ],
      "metadata": {
        "id": "_YGgZvSobNxu",
        "colab": {
          "base_uri": "https://localhost:8080/",
          "height": 452
        },
        "outputId": "c8fae3c8-57c6-4c8c-ae5c-718fafdb566a"
      },
      "execution_count": 82,
      "outputs": [
        {
          "output_type": "display_data",
          "data": {
            "text/plain": [
              "<Figure size 640x480 with 1 Axes>"
            ],
            "image/png": "[encoded data removed]"
          },
          "metadata": {}
        }
      ]
    },
    {
      "cell_type": "code",
      "source": [
        "model_pred_logits = model_gpu(data_test[0][0].unsqueeze(dim=0).to(device))\n",
        "model_pred_probs = torch.softmax(model_pred_logits, dim=1)\n",
        "model_pred_label = torch.argmax(model_pred_probs, dim=1)\n",
        "model_pred_label"
      ],
      "metadata": {
        "colab": {
          "base_uri": "https://localhost:8080/"
        },
        "id": "fP_H8t9Plt7q",
        "outputId": "1ca4d69c-68e2-4d4b-ae56-23ec910289e6"
      },
      "execution_count": 84,
      "outputs": [
        {
          "output_type": "execute_result",
          "data": {
            "text/plain": [
              "tensor([9], device='cuda:0')"
            ]
          },
          "metadata": {},
          "execution_count": 84
        }
      ]
    },
    {
      "cell_type": "code",
      "source": [
        "num_to_plot = 5\n",
        "for i in range(num_to_plot):\n",
        "  img = data_test[i][0]\n",
        "  label = data_test[i][1]\n",
        "\n",
        "  model_pred_logits = model_gpu(img.unsqueeze(dim=0).to(device))\n",
        "  model_pred_probs = torch.softmax(model_pred_logits, dim=1)\n",
        "  model_pred_label = torch.argmax(model_pred_probs, dim=1)\n",
        "\n",
        "  class_names = ['T-shirt/top', 'Trouser', 'Pullover', 'Dress', 'Coat',\n",
        "               'Sandal', 'Shirt', 'Sneaker', 'Bag', 'Ankle boot']\n",
        "\n",
        "  plt.figure()\n",
        "  plt.imshow(img.squeeze(), cmap=\"gray\")\n",
        "  plt.title(f\"Truth: {class_names[label]} | Pred: {class_names[model_pred_label.cpu().item()]}\")\n",
        "  plt.axis(False);"
      ],
      "metadata": {
        "colab": {
          "base_uri": "https://localhost:8080/",
          "height": 1000
        },
        "id": "ZBL83An9l5vn",
        "outputId": "3f3061e7-506c-4787-da33-4447668554c3"
      },
      "execution_count": 90,
      "outputs": [
        {
          "output_type": "display_data",
          "data": {
            "text/plain": [
              "<Figure size 640x480 with 1 Axes>"
            ],
            "image/png": "[encoded data removed]"
          },
          "metadata": {}
        },
        {
          "output_type": "display_data",
          "data": {
            "text/plain": [
              "<Figure size 640x480 with 1 Axes>"
            ],
            "image/png": "[encoded data removed]"
          },
          "metadata": {}
        },
        {
          "output_type": "display_data",
          "data": {
            "text/plain": [
              "<Figure size 640x480 with 1 Axes>"
            ],
            "image/png": "[encoded data removed]"
          },
          "metadata": {}
        },
        {
          "output_type": "display_data",
          "data": {
            "text/plain": [
              "<Figure size 640x480 with 1 Axes>"
            ],
            "image/png": "[encoded data removed]"
          },
          "metadata": {}
        },
        {
          "output_type": "display_data",
          "data": {
            "text/plain": [
              "<Figure size 640x480 with 1 Axes>"
            ],
            "image/png": "[encoded data removed]"
          },
          "metadata": {}
        }
      ]
    },
    {
      "cell_type": "markdown",
      "source": [
        "## 11. Plot a confusion matrix comparing your model's predictions to the truth labels."
      ],
      "metadata": {
        "id": "qQwzqlBWxrpG"
      }
    },
    {
      "cell_type": "code",
      "source": [
        "try:\n",
        "    import torchmetrics, mlxtend\n",
        "    print(f\"mlxtend version: {mlxtend.__version__}\")\n",
        "    assert int(mlxtend.__version__.split(\".\")[1]) >= 19, \"mlxtend verison should be 0.19.0 or higher\"\n",
        "except:\n",
        "    !pip install -q torchmetrics -U mlxtend\n",
        "    import torchmetrics, mlxtend\n",
        "    print(f\"mlxtend version: {mlxtend.__version__}\")"
      ],
      "metadata": {
        "id": "vSrXiT_AbQ6e",
        "colab": {
          "base_uri": "https://localhost:8080/"
        },
        "outputId": "f9d46d68-62ad-4ea8-9946-7ca0bb5eb57e"
      },
      "execution_count": 91,
      "outputs": [
        {
          "output_type": "stream",
          "name": "stdout",
          "text": [
            "\u001b[2K   \u001b[90m━━━━━━━━━━━━━━━━━━━━━━━━━━━━━━━━━━━━━━━━\u001b[0m \u001b[32m868.8/868.8 kB\u001b[0m \u001b[31m23.2 MB/s\u001b[0m eta \u001b[36m0:00:00\u001b[0m\n",
            "\u001b[2K   \u001b[90m━━━━━━━━━━━━━━━━━━━━━━━━━━━━━━━━━━━━━━━━\u001b[0m \u001b[32m21.3/21.3 MB\u001b[0m \u001b[31m15.2 MB/s\u001b[0m eta \u001b[36m0:00:00\u001b[0m\n",
            "\u001b[?25hmlxtend version: 0.23.1\n"
          ]
        }
      ]
    },
    {
      "cell_type": "code",
      "source": [
        "import mlxtend\n",
        "print(f\"mlxtend version: {mlxtend.__version__}\")"
      ],
      "metadata": {
        "colab": {
          "base_uri": "https://localhost:8080/"
        },
        "id": "f0mKzeE0njUb",
        "outputId": "1b1b3073-2764-4300-9950-117a2ad8012b"
      },
      "execution_count": 92,
      "outputs": [
        {
          "output_type": "stream",
          "name": "stdout",
          "text": [
            "mlxtend version: 0.23.1\n"
          ]
        }
      ]
    },
    {
      "cell_type": "code",
      "source": [
        "from tqdm.auto import tqdm\n",
        "model_gpu.eval()\n",
        "y_preds = []\n",
        "with torch.inference_mode():\n",
        "  for batch, (X, y) in tqdm(enumerate(data_test_loader)):\n",
        "    X, y = X.to(device), y.to(device)\n",
        "    y_pred_logits = model_gpu(X)\n",
        "    y_pred_labels = torch.argmax(torch.softmax(y_pred_logits, dim=1), dim=1)\n",
        "    y_preds.append(y_pred_labels)\n",
        "  y_preds=torch.cat(y_preds).cpu()\n",
        "len(y_preds)"
      ],
      "metadata": {
        "colab": {
          "base_uri": "https://localhost:8080/",
          "height": 67,
          "referenced_widgets": [
            "bb948e6517e04ff58febea0cd25ff51f",
            "8bb729ae6cc44ee7bf14fe9f6b4a8aed",
            "dc5c228820c84041b29fd13214d74a23",
            "bd3840a284304eee999a0de9bbf0c106",
            "2033b3b3f95e47d68e5a37281b6a1daf",
            "747e39e09ec240a78f013969668be761",
            "c7548e797099488b9f7a32881556d0c1",
            "5b6702b2d6d2497bb77f0ed2d8121be5",
            "a25f15cb162e46a196d99d8de093a886",
            "1358ca952f954ab79880b58820148d3b",
            "b8d4dfbd865e4d8594a637a0cf1966bf"
          ]
        },
        "id": "oqFTo4fOoCiV",
        "outputId": "457fadb4-8908-4431-e27e-821260bd5211"
      },
      "execution_count": 94,
      "outputs": [
        {
          "output_type": "display_data",
          "data": {
            "text/plain": [
              "0it [00:00, ?it/s]"
            ],
            "application/vnd.jupyter.widget-view+json": {
              "version_major": 2,
              "version_minor": 0,
              "model_id": "bb948e6517e04ff58febea0cd25ff51f"
            }
          },
          "metadata": {}
        },
        {
          "output_type": "execute_result",
          "data": {
            "text/plain": [
              "10000"
            ]
          },
          "metadata": {},
          "execution_count": 94
        }
      ]
    },
    {
      "cell_type": "code",
      "source": [
        "data_test.targets[:10], y_preds[:10]"
      ],
      "metadata": {
        "colab": {
          "base_uri": "https://localhost:8080/"
        },
        "id": "2eTvIFpYoQbr",
        "outputId": "3c944596-2fe8-43a9-ce2d-bad59fdec101"
      },
      "execution_count": 95,
      "outputs": [
        {
          "output_type": "execute_result",
          "data": {
            "text/plain": [
              "(tensor([9, 2, 1, 1, 6, 1, 4, 6, 5, 7]),\n",
              " tensor([9, 2, 1, 1, 6, 1, 4, 6, 5, 7]))"
            ]
          },
          "metadata": {},
          "execution_count": 95
        }
      ]
    },
    {
      "cell_type": "code",
      "source": [
        "\n",
        "from torchmetrics import ConfusionMatrix\n",
        "from mlxtend.plotting import plot_confusion_matrix\n",
        "\n",
        "# Setting up confusion matrix\n",
        "confmat = ConfusionMatrix(task=\"multiclass\", num_classes=len(class_names))\n",
        "confmat_tensor = confmat(preds=y_preds,\n",
        "                         target=data_test.targets)\n",
        "\n",
        "# Confusion matrix\n",
        "fix, ax = plot_confusion_matrix(\n",
        "    conf_mat=confmat_tensor.numpy(),\n",
        "    class_names=class_names,\n",
        "    figsize=(10, 7)\n",
        ")"
      ],
      "metadata": {
        "colab": {
          "base_uri": "https://localhost:8080/",
          "height": 667
        },
        "id": "DaA2_OWnoefc",
        "outputId": "f484ef52-0e5e-4e5b-e737-3bef0830be19"
      },
      "execution_count": 96,
      "outputs": [
        {
          "output_type": "display_data",
          "data": {
            "text/plain": [
              "<Figure size 1000x700 with 1 Axes>"
            ],
            "image/png": "[encoded data removed]"
          },
          "metadata": {}
        }
      ]
    },
    {
      "cell_type": "markdown",
      "source": [
        "## 12. Create a random tensor of shape `[1, 3, 64, 64]` and pass it through a `nn.Conv2d()` layer with various hyperparameter settings (these can be any settings you choose), what do you notice if the `kernel_size` parameter goes up and down?"
      ],
      "metadata": {
        "id": "lj6bDhoWxt2y"
      }
    },
    {
      "cell_type": "code",
      "source": [
        "random_tensor = torch.rand([1, 3, 64, 64])\n",
        "random_tensor.shape"
      ],
      "metadata": {
        "colab": {
          "base_uri": "https://localhost:8080/"
        },
        "id": "2F9kvPBIodhd",
        "outputId": "014c9e98-69f3-4599-95af-244033ac6862"
      },
      "execution_count": 97,
      "outputs": [
        {
          "output_type": "execute_result",
          "data": {
            "text/plain": [
              "torch.Size([1, 3, 64, 64])"
            ]
          },
          "metadata": {},
          "execution_count": 97
        }
      ]
    },
    {
      "cell_type": "code",
      "source": [
        "conv_layer = nn.Conv2d(in_channels=3,\n",
        "                       out_channels=32,\n",
        "                       kernel_size=3,\n",
        "                       stride=4,\n",
        "                       padding=0)\n",
        "\n",
        "print(f\"Random tensor original shape: {random_tensor.shape}\")\n",
        "random_tensor_through_conv_layer = conv_layer(random_tensor)\n",
        "print(f\"Random tensor through conv layer shape: {random_tensor_through_conv_layer.shape}\")"
      ],
      "metadata": {
        "colab": {
          "base_uri": "https://localhost:8080/"
        },
        "id": "6VkI4Yq_oNZi",
        "outputId": "262998ed-b62f-4355-b2f1-07dff222a92c"
      },
      "execution_count": 100,
      "outputs": [
        {
          "output_type": "stream",
          "name": "stdout",
          "text": [
            "Random tensor original shape: torch.Size([1, 3, 64, 64])\n",
            "Random tensor through conv layer shape: torch.Size([1, 32, 16, 16])\n"
          ]
        }
      ]
    }
  ]
}