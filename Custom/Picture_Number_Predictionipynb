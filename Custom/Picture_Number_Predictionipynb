{
  "nbformat": 4,
  "nbformat_minor": 0,
  "metadata": {
    "colab": {
      "provenance": [],
      "authorship_tag": "ABX9TyNK6fjU1XcbjfZl2ISK2leP",
      "include_colab_link": true
    },
    "kernelspec": {
      "name": "python3",
      "display_name": "Python 3"
    },
    "language_info": {
      "name": "python"
    }
  },
  "cells": [
    {
      "cell_type": "markdown",
      "metadata": {
        "id": "view-in-github",
        "colab_type": "text"
      },
      "source": [
        "<a href=\"https://colab.research.google.com/github/Jaizxzx/Neural-Network_and_Deep-Learning/blob/main/Custom/Picture_Number_Predictionipynb\" target=\"_parent\"><img src=\"https://colab.research.google.com/assets/colab-badge.svg\" alt=\"Open In Colab\"/></a>"
      ]
    },
    {
      "cell_type": "markdown",
      "source": [],
      "metadata": {
        "id": "Iacb0sUnrPDW"
      }
    },
    {
      "cell_type": "code",
      "source": [
        "import tensorflow as tf\n",
        "print(tf.__version__)"
      ],
      "metadata": {
        "colab": {
          "base_uri": "https://localhost:8080/"
        },
        "id": "3B4jtv7grVW-",
        "outputId": "e7c2f95f-e5a8-4871-eafa-de74b4df9a8d"
      },
      "execution_count": 4,
      "outputs": [
        {
          "output_type": "stream",
          "name": "stdout",
          "text": [
            "2.15.0\n"
          ]
        }
      ]
    },
    {
      "cell_type": "code",
      "source": [
        "from tensorflow.keras import layers, models\n",
        "from tensorflow.keras.datasets import mnist\n",
        "import numpy as np\n",
        "import matplotlib.pyplot as plt\n",
        "\n",
        "# Load and preprocess the MNIST dataset\n",
        "(train_images, train_labels), (test_images, test_labels) = mnist.load_data()\n",
        "\n",
        "# Normalize pixel values to be between 0 and 1\n",
        "train_images = train_images.astype('float32') / 255\n",
        "test_images = test_images.astype('float32') / 255\n",
        "\n",
        "# Reshape images to (28, 28, 1)\n",
        "train_images = train_images.reshape((60000, 28, 28, 1))\n",
        "test_images = test_images.reshape((10000, 28, 28, 1))\n",
        "\n",
        "# Convert labels to categorical\n",
        "train_labels = tf.keras.utils.to_categorical(train_labels)\n",
        "test_labels = tf.keras.utils.to_categorical(test_labels)\n",
        "\n",
        "# Define the model\n",
        "model = models.Sequential([\n",
        "    layers.Conv2D(32, (3, 3), activation='relu', input_shape=(28, 28, 1)),\n",
        "    layers.MaxPooling2D((2, 2)),\n",
        "    layers.Conv2D(64, (3, 3), activation='relu'),\n",
        "    layers.MaxPooling2D((2, 2)),\n",
        "    layers.Conv2D(64, (3, 3), activation='relu'),\n",
        "    layers.Flatten(),\n",
        "    layers.Dense(64, activation='relu'),\n",
        "    layers.Dense(10, activation='softmax')\n",
        "])\n",
        "\n",
        "# Compile the model\n",
        "model.compile(optimizer='adam',\n",
        "              loss='categorical_crossentropy',\n",
        "              metrics=['accuracy'])\n",
        "\n",
        "# Train the model\n",
        "history = model.fit(train_images, train_labels, epochs=10,\n",
        "                    validation_data=(test_images, test_labels))\n",
        "\n",
        "# Evaluate the model\n",
        "test_loss, test_acc = model.evaluate(test_images, test_labels, verbose=2)\n",
        "print(f'\\nTest accuracy: {test_acc}')\n",
        "\n",
        "# Function to plot example predictions\n",
        "def plot_example_predictions(images, labels, predictions, num_images=5):\n",
        "    plt.figure(figsize=(15, 3))\n",
        "    for i in range(num_images):\n",
        "        plt.subplot(1, num_images, i+1)\n",
        "        plt.imshow(images[i].reshape(28, 28), cmap=plt.cm.binary)\n",
        "        predicted_label = np.argmax(predictions[i])\n",
        "        true_label = np.argmax(labels[i])\n",
        "        if predicted_label == true_label:\n",
        "            color = 'green'\n",
        "        else:\n",
        "            color = 'red'\n",
        "        plt.title(f\"Predicted: {predicted_label}\\nTrue: {true_label}\", color=color)\n",
        "        plt.axis('off')\n",
        "    plt.show()\n",
        "\n",
        "# Make predictions on test data\n",
        "predictions = model.predict(test_images[5:15])\n",
        "\n",
        "# Plot example predictions\n",
        "plot_example_predictions(test_images[5:15], test_labels[5:15], predictions)"
      ],
      "metadata": {
        "colab": {
          "base_uri": "https://localhost:8080/",
          "height": 716
        },
        "id": "r2URSXQOtEKL",
        "outputId": "e3baee61-5237-4a13-9e72-e022736cb4bf"
      },
      "execution_count": 5,
      "outputs": [
        {
          "output_type": "stream",
          "name": "stdout",
          "text": [
            "Epoch 1/10\n",
            "1875/1875 [==============================] - 58s 30ms/step - loss: 0.1451 - accuracy: 0.9543 - val_loss: 0.0484 - val_accuracy: 0.9850\n",
            "Epoch 2/10\n",
            "1875/1875 [==============================] - 58s 31ms/step - loss: 0.0458 - accuracy: 0.9858 - val_loss: 0.0377 - val_accuracy: 0.9873\n",
            "Epoch 3/10\n",
            "1875/1875 [==============================] - 56s 30ms/step - loss: 0.0329 - accuracy: 0.9894 - val_loss: 0.0376 - val_accuracy: 0.9881\n",
            "Epoch 4/10\n",
            "1875/1875 [==============================] - 58s 31ms/step - loss: 0.0244 - accuracy: 0.9924 - val_loss: 0.0307 - val_accuracy: 0.9907\n",
            "Epoch 5/10\n",
            "1875/1875 [==============================] - 57s 30ms/step - loss: 0.0199 - accuracy: 0.9939 - val_loss: 0.0299 - val_accuracy: 0.9911\n",
            "Epoch 6/10\n",
            "1875/1875 [==============================] - 57s 30ms/step - loss: 0.0154 - accuracy: 0.9951 - val_loss: 0.0311 - val_accuracy: 0.9915\n",
            "Epoch 7/10\n",
            "1875/1875 [==============================] - 56s 30ms/step - loss: 0.0132 - accuracy: 0.9957 - val_loss: 0.0334 - val_accuracy: 0.9917\n",
            "Epoch 8/10\n",
            "1875/1875 [==============================] - 55s 30ms/step - loss: 0.0119 - accuracy: 0.9962 - val_loss: 0.0392 - val_accuracy: 0.9907\n",
            "Epoch 9/10\n",
            "1875/1875 [==============================] - 57s 30ms/step - loss: 0.0104 - accuracy: 0.9968 - val_loss: 0.0323 - val_accuracy: 0.9920\n",
            "Epoch 10/10\n",
            "1875/1875 [==============================] - 55s 29ms/step - loss: 0.0090 - accuracy: 0.9970 - val_loss: 0.0296 - val_accuracy: 0.9918\n",
            "313/313 - 2s - loss: 0.0296 - accuracy: 0.9918 - 2s/epoch - 8ms/step\n",
            "\n",
            "Test accuracy: 0.9918000102043152\n",
            "1/1 [==============================] - 0s 79ms/step\n"
          ]
        },
        {
          "output_type": "display_data",
          "data": {
            "text/plain": [
              "<Figure size 1500x300 with 5 Axes>"
            ],
            "image/png": "[encoded data removed]"
          },
          "metadata": {}
        }
      ]
    }
  ]
}